{
 "cells": [
  {
   "cell_type": "markdown",
   "metadata": {},
   "source": [
    "# Homework 3"
   ]
  },
  {
   "cell_type": "code",
   "execution_count": null,
   "metadata": {},
   "outputs": [],
   "source": [
    "import pandas as pd\n",
    "import numpy as np\n",
    "from sklearn import tree\n",
    "from sklearn.model_selection import train_test_split\n",
    "from sklearn.metrics import mean_absolute_error"
   ]
  },
  {
   "cell_type": "code",
   "execution_count": null,
   "metadata": {},
   "outputs": [],
   "source": [
    "melbourne_file_path = \"data/melb_data.csv\"\n",
    "melbourne_data = pd.read_csv(melbourne_file_path)\n",
    "melbourne_data.columns"
   ]
  },
  {
   "cell_type": "markdown",
   "metadata": {},
   "source": [
    "# Tasks 1\n",
    "\n",
    "Do some more inital data exporation (descriptive statistis and plotting) on the melbourne_data using only pandas.\n",
    "\n",
    "Hint: use [\"column name\"] to select a specific column, use describe(), info(), plot() with different kinds and hist()\n",
    " "
   ]
  },
  {
   "cell_type": "markdown",
   "metadata": {},
   "source": [
    "# Task 2\n",
    "\n",
    "Copy the relevant code from 03_ml_sklearn_intro here and choose a different set of features and train and evaluate the model.\n",
    "\n",
    "Did the model get better or not? (both are ok for this exercise)\n",
    "\n",
    "Hint: In the orginal example we used the features of \"Rooms\", \"Bathroom\", \"Landsize\", \"Lattitude\", \"Longtitude\", what do they have in common?"
   ]
  },
  {
   "cell_type": "markdown",
   "metadata": {},
   "source": []
  }
 ],
 "metadata": {
  "kernelspec": {
   "display_name": "base",
   "language": "python",
   "name": "python3"
  },
  "language_info": {
   "codemirror_mode": {
    "name": "ipython",
    "version": 3
   },
   "file_extension": ".py",
   "mimetype": "text/x-python",
   "name": "python",
   "nbconvert_exporter": "python",
   "pygments_lexer": "ipython3",
   "version": "3.11.5"
  }
 },
 "nbformat": 4,
 "nbformat_minor": 2
}
