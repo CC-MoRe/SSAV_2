{
 "cells": [
  {
   "cell_type": "markdown",
   "metadata": {},
   "source": [
    "# Homework 1\n",
    "\n",
    "1.) Get familiar with Binder or your local Python installation. Choose what suits you best. Explain why (no wrong answers here)\n",
    "\n",
    "2.) Generate a notebook called 01_homework_XX.ipnyb. where XX are your initials (like 01_homework_TG.ipynb). Write the explanation from 1. in the Jupyter text (markdown) cell.\n",
    "\n",
    "3) Import numpy and generate a random number in a code cell. Save the Jupyter notebook and download it. Close the browser and reopen the the jupyter notebook and check that everything is there. Upload the notebook to Moodle."
   ]
  }
 ],
 "metadata": {
  "language_info": {
   "name": "python"
  }
 },
 "nbformat": 4,
 "nbformat_minor": 2
}
