{
 "cells": [
  {
   "cell_type": "markdown",
   "metadata": {},
   "source": [
    "# Homework 1\n",
    "\n",
    "1.) Get familiar with Binder or your local Python installation. Choose what suits you best. Explain why (no wrong answers here)\n",
    "\n",
    "2.) Generate a notebook called 01_homework_XX.ipnyb. where XX are your initials (like 01_homework_TG.ipynb). Write the explanation from 1. in the Jupyter text (markdown) cell.\n",
    "\n",
    "3) Import numpy and generate a random number in a code cell. Save the Jupyter notebook and download it. Close the browser and reopen the the jupyter notebook and check that everything is there. Upload the notebook to Moodle."
   ]
  },
  {
   "cell_type": "code",
   "execution_count": 2,
   "metadata": {},
   "outputs": [],
   "source": [
    "import numpy as np"
   ]
  },
  {
   "cell_type": "code",
   "execution_count": 5,
   "metadata": {},
   "outputs": [
    {
     "data": {
      "text/plain": [
       "array([0.12699731, 0.56253799, 0.75662611, 0.18312308, 0.67182296,\n",
       "       0.39118655, 0.49207517, 0.63263304, 0.58639439, 0.35250407])"
      ]
     },
     "execution_count": 5,
     "metadata": {},
     "output_type": "execute_result"
    }
   ],
   "source": [
    "np.random.random(10)"
   ]
  },
  {
   "cell_type": "code",
   "execution_count": null,
   "metadata": {},
   "outputs": [],
   "source": []
  }
 ],
 "metadata": {
  "language_info": {
   "name": "python"
  }
 },
 "nbformat": 4,
 "nbformat_minor": 2
}
