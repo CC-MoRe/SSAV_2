{
 "cells": [
  {
   "cell_type": "markdown",
   "metadata": {},
   "source": [
    "# Homework 1\n",
    "\n",
    "1.) Get familiar with Binder or your local Python installation. Choose what suits you best. Explain why (no wrong answers here)\n",
    "\n",
    "2.) Generate a notebook calles 01_homework_XX.ipnyb. where XX are your initials (like 01_homework_TG.ipynb). Import numpy and generate a random number. Save the Jupyter notebook.\n",
    "\n",
    "3.) Reopen the the jupyter notebook and check that everything is there."
   ]
  },
  {
   "cell_type": "markdown",
   "metadata": {},
   "source": []
  }
 ],
 "metadata": {
  "language_info": {
   "name": "python"
  }
 },
 "nbformat": 4,
 "nbformat_minor": 2
}
