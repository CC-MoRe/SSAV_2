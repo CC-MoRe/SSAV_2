{
 "cells": [
  {
   "cell_type": "markdown",
   "metadata": {},
   "source": [
    "# Review to python\n",
    "\n",
    "## Acknowledgment\n",
    "\n",
    "Adapted from https://florianboergel.github.io/climateoftheocean/intro.html#\n",
    "* changed prints to use f-strings\n",
    "* Added relvant to statistics course\n",
    "* imports on top\n",
    "* writing a custom function\n",
    "* added pandas section"
   ]
  },
  {
   "cell_type": "markdown",
   "metadata": {},
   "source": [
    "# All the needed imports go at the very top\n",
    "\n",
    "* If you need a new package add it at the top and rerun the cell.\n",
    "* Only import what to need\n",
    "* use \"as\" to use shortnames. Here are the most relevant packages important with their short names"
   ]
  },
  {
   "cell_type": "code",
   "execution_count": null,
   "metadata": {},
   "outputs": [],
   "source": [
    "import numpy as np\n",
    "import pandas as pd\n",
    "import matplotlib.pyplot as plt"
   ]
  },
  {
   "cell_type": "markdown",
   "metadata": {},
   "source": [
    "# Variables\n"
   ]
  },
  {
   "cell_type": "code",
   "execution_count": null,
   "metadata": {},
   "outputs": [],
   "source": [
    "x = 1"
   ]
  },
  {
   "cell_type": "code",
   "execution_count": null,
   "metadata": {},
   "outputs": [],
   "source": [
    "x"
   ]
  },
  {
   "cell_type": "code",
   "execution_count": null,
   "metadata": {},
   "outputs": [],
   "source": [
    "x = \"abcd\""
   ]
  },
  {
   "cell_type": "code",
   "execution_count": null,
   "metadata": {},
   "outputs": [],
   "source": [
    "x"
   ]
  },
  {
   "cell_type": "markdown",
   "metadata": {},
   "source": [
    "x as an integer and then a string? The same concept is applicable for many other different examples. Python has a minimalistic approech and follows a simple syntax. This is why source code is very easy to read."
   ]
  },
  {
   "cell_type": "code",
   "execution_count": null,
   "metadata": {},
   "outputs": [],
   "source": [
    "x = 0\n",
    "if x > 0:\n",
    "    statement = \"x is positive\"\n",
    "elif x < 0:\n",
    "    statement = \"x is negative\"\n",
    "else:\n",
    "    statement = \"x is zero or none\"\n",
    "\n",
    "print(statement)"
   ]
  },
  {
   "cell_type": "code",
   "execution_count": null,
   "metadata": {},
   "outputs": [],
   "source": [
    "x = 10 / 3  # Comments are made with a hash Raute\n",
    "y = \"Hello\"  # Everything after the hash will be a comment\n",
    "if y == \"hallo\":\n",
    "    z = x * 2\n",
    "    y = y + \" World\"  # This is how you combine strings!\n",
    "\n",
    "print(f\"x is {x}\")  # use f-string\n",
    "print(f\"x is {x:.2f}\")  # This is how you format a float for only two decimal places\n",
    "print(f\"y is {y}\")"
   ]
  },
  {
   "cell_type": "markdown",
   "metadata": {},
   "source": [
    "**First summary:**\n",
    "- Indenting of the source code has a meaning!\n",
    "    -  the indentation of your code organizes it into blocks within blocks within blocks. \n",
    "- the first assignment of a variable creates it\n",
    "    - we don't care if it is an integer, float or string\n",
    "- assignments of variables use *=*, to compare two variables we use *==*\n",
    "- also: logical operators are words (and, or, not) *not* symbols"
   ]
  },
  {
   "cell_type": "markdown",
   "metadata": {},
   "source": [
    "### Types\n",
    "\n",
    "Without going into detail:"
   ]
  },
  {
   "cell_type": "code",
   "execution_count": null,
   "metadata": {},
   "outputs": [],
   "source": [
    "pi = 3.141516546859754674896794  # better yet is to use numpy's pi like this np.pi\n",
    "days_of_week = 5\n",
    "x = \"Hey Guys\"\n",
    "\n",
    "y = \"\"\"Also works this way ...\n",
    "\n",
    "... for multiline strings\n",
    "\"\"\"\n",
    "\n",
    "z = True\n",
    "\n",
    "print(f\"pi: {type(pi)}\")\n",
    "print(f\"days_of_week: {type(days_of_week)}\")\n",
    "print(f\"x: {type(x)}\")\n",
    "print(f\"y: {type(y)}\")\n",
    "print(f\"z: {type(z)}\")"
   ]
  },
  {
   "cell_type": "markdown",
   "metadata": {},
   "source": [
    "You can add two strings like this"
   ]
  },
  {
   "cell_type": "code",
   "execution_count": null,
   "metadata": {},
   "outputs": [],
   "source": [
    "string_1 = \"ab\"\n",
    "string_2 = \"cd\"\n",
    "\n",
    "string_1 + \" \" + string_2"
   ]
  },
  {
   "cell_type": "markdown",
   "metadata": {},
   "source": [
    "or like this using f-strings"
   ]
  },
  {
   "cell_type": "code",
   "execution_count": null,
   "metadata": {},
   "outputs": [],
   "source": [
    "f\"{string_1} {string_2}\""
   ]
  },
  {
   "cell_type": "code",
   "execution_count": null,
   "metadata": {},
   "outputs": [],
   "source": [
    "# We define two integers and assign the division to c\n",
    "a = 1\n",
    "b = 5\n",
    "\n",
    "c = a / b"
   ]
  },
  {
   "cell_type": "markdown",
   "metadata": {},
   "source": [
    "Does this really matter? Actually, no, since Python's use of variables is very intuitive. Still, keep in mind that a different variable type can lead to different behaviour:"
   ]
  },
  {
   "cell_type": "code",
   "execution_count": null,
   "metadata": {},
   "outputs": [],
   "source": [
    "print(c)"
   ]
  },
  {
   "cell_type": "markdown",
   "metadata": {},
   "source": [
    "\n",
    "### Variable\n",
    "The value of a variable can be obtained by writing its name."
   ]
  },
  {
   "cell_type": "code",
   "execution_count": null,
   "metadata": {},
   "outputs": [],
   "source": [
    "pi = 3.14\n",
    "\n",
    "radius = 68.7"
   ]
  },
  {
   "cell_type": "markdown",
   "metadata": {},
   "source": [
    "**Exercise:**\n",
    "\n",
    "Calculate the area of the circle \n",
    "\n",
    "A = $\\pi r^2$ \n",
    "\n",
    "Exponentiation in Python is defined as\n",
    "\n",
    "r**2 \n",
    "\n",
    "Complete the code here:\n",
    "\n"
   ]
  },
  {
   "cell_type": "code",
   "execution_count": null,
   "metadata": {},
   "outputs": [],
   "source": [
    "area =\n",
    "print(f\"the area is = {area}\")"
   ]
  },
  {
   "cell_type": "markdown",
   "metadata": {},
   "source": [
    "## Defining and using a Function"
   ]
  },
  {
   "cell_type": "markdown",
   "metadata": {},
   "source": [
    "### Exercise\n",
    "\n",
    "Now make a function to make it re-useable which takes the radius as input and returns the area\n",
    "\n",
    "Hint: \n",
    "```\n",
    "def circle_area(whateverinput):\n",
    "        return ....\n",
    "```      "
   ]
  },
  {
   "cell_type": "code",
   "execution_count": null,
   "metadata": {},
   "outputs": [],
   "source": []
  },
  {
   "cell_type": "markdown",
   "metadata": {},
   "source": [
    "now call the function"
   ]
  },
  {
   "cell_type": "code",
   "execution_count": null,
   "metadata": {},
   "outputs": [],
   "source": [
    "circle_area(radius)"
   ]
  },
  {
   "cell_type": "markdown",
   "metadata": {},
   "source": [
    "### Lists\n",
    "As opposed to int, bool etc., a list is a compound data type; you can group values together:\n",
    "\n",
    "\n",
    "```python\n",
    "a = \"is\"\n",
    "b = \"nice\"\n",
    "my_list = [\"my\", \"list\", a, b]\n",
    "```\n",
    "After measuring the height of your family, you decide to collect some information on the house you're living in. The areas of the different parts of your house are stored in separate variables for now, as shown in the script."
   ]
  },
  {
   "cell_type": "markdown",
   "metadata": {},
   "source": [
    "### List of lists\n",
    "As a data scientist, you'll often be dealing with a lot of data, and it will make sense to group some of this data.\n",
    "\n",
    "Instead of creating a flat list containing strings and floats, representing the names and areas of the rooms in your house, you can create a list of lists. The script on the right can already give you an idea.\n",
    "\n",
    "Don't get confused here: \"hallway\" is a string, while hall is a variable that represents the float 11.25 you specified earlier."
   ]
  },
  {
   "cell_type": "code",
   "execution_count": null,
   "metadata": {},
   "outputs": [],
   "source": [
    "# area variables (in square meters)\n",
    "hall = 11.25\n",
    "kit = 18.0\n",
    "liv = 20.0\n",
    "bed = 10.75\n",
    "bath = 9.50\n",
    "\n",
    "# house information as list of lists\n",
    "house = [[\"hallway\", hall], [\"kitchen\", kit], [\"living room\", liv], [\"bedroom\", bed]]"
   ]
  },
  {
   "cell_type": "markdown",
   "metadata": {},
   "source": [
    "### Exercise\n",
    "\n",
    "- Print out house\n",
    "- Print out the type of house\n",
    "- Add the the bath to the house\n"
   ]
  },
  {
   "cell_type": "code",
   "execution_count": null,
   "metadata": {},
   "outputs": [],
   "source": [
    "house"
   ]
  },
  {
   "cell_type": "markdown",
   "metadata": {},
   "source": [
    "## Subset and conquer\n",
    "Subsetting Python lists is a piece of cake. Take the code sample below, which creates a list x and then selects \"b\" from it. Remember that this is the second element, so it has index 1. You can also use negative indexing.\n",
    "Ranges of values can be accessed like this x[start_index:end_index]\n",
    "\n",
    "```python\n",
    "x = [\"a\", \"b\", \"c\", \"d\"]\n",
    "x[1]\n",
    "x[-3] # same result!\n",
    "```"
   ]
  },
  {
   "cell_type": "code",
   "execution_count": null,
   "metadata": {},
   "outputs": [],
   "source": [
    "x = [\"a\", \"b\", \"c\", \"d\"]"
   ]
  },
  {
   "cell_type": "markdown",
   "metadata": {},
   "source": [
    "make a list from b to c"
   ]
  },
  {
   "cell_type": "markdown",
   "metadata": {},
   "source": [
    "Try this out x[:2]. What happens?"
   ]
  },
  {
   "cell_type": "markdown",
   "metadata": {},
   "source": [
    "### Exercise\n",
    "Remember the areas list from before, containing both strings and floats? Its definition is already in the script. Can you add the correct code to do some Python subsetting?\n",
    "\n",
    "Print out the area of the living room."
   ]
  },
  {
   "cell_type": "code",
   "execution_count": null,
   "metadata": {},
   "outputs": [],
   "source": []
  },
  {
   "cell_type": "markdown",
   "metadata": {},
   "source": [
    "### Dictionaries\n",
    "\n",
    "Some times it makes sense to avoid lists of lists and instead use dictionaries.\n",
    "\n",
    "```python\n",
    "house = {\n",
    "    \"hallway\": hall,\n",
    "    \"kitchen\": kit,\n",
    "    \"living room\": liv,\n",
    "    \"bedroom\": bed\n",
    "}\n",
    "```"
   ]
  },
  {
   "cell_type": "code",
   "execution_count": null,
   "metadata": {},
   "outputs": [],
   "source": [
    "house = {\"hallway\": hall, \"kitchen\": kit, \"living room\": liv, \"bedroom\": bed}"
   ]
  },
  {
   "cell_type": "code",
   "execution_count": null,
   "metadata": {},
   "outputs": [],
   "source": [
    "house.keys()"
   ]
  },
  {
   "cell_type": "code",
   "execution_count": null,
   "metadata": {},
   "outputs": [],
   "source": [
    "house[\"hallway\"]"
   ]
  },
  {
   "cell_type": "markdown",
   "metadata": {},
   "source": [
    "### Build in functions\n",
    "Out of the box, Python offers a bunch of built-in functions to make your life as a data scientist easier. You already know two such functions: print() and type(). You've also used the functions str(), int(), bool() and float() to switch between data types. These are built-in functions as well.\n",
    "\n",
    "Calling a function is easy. To get the type of 3.0 and store the output as a new variable, result, you can use the following:\n",
    "\n",
    "result = type(3.0)\n",
    "\n",
    "The general recipe for calling functions and saving the result to a variable is thus:\n",
    "\n",
    "output = function_name(input)"
   ]
  },
  {
   "cell_type": "code",
   "execution_count": null,
   "metadata": {},
   "outputs": [],
   "source": [
    "# Create variables var1 and var2\n",
    "var1 = [1, 2, 3, 4]\n",
    "var2 = False\n",
    "\n",
    "# Print out type of var1\n",
    "print(type(var1))\n",
    "# Print out length of var1\n",
    "print(len(var1))"
   ]
  },
  {
   "cell_type": "markdown",
   "metadata": {},
   "source": [
    "## Numpy\n",
    "\n",
    " Numpy is a library, adding support for large, multi-dimensional arrays and matrices, along with a large collection of high-level mathematical functions to operate on these arrays."
   ]
  },
  {
   "cell_type": "code",
   "execution_count": null,
   "metadata": {},
   "outputs": [],
   "source": [
    "a = [1, 2, 3, 4, 5, 6, 7, 8, 9]\n",
    "a_numpy = np.array(a)\n",
    "\n",
    "print(f\"This is a list: {type(a)} and looks like {a}\")\n",
    "print(f\"This is an array: {type(a_numpy)} and looks like  {a_numpy}\")"
   ]
  },
  {
   "cell_type": "markdown",
   "metadata": {},
   "source": [
    "So why use numpy then?\n",
    "It has a many methods attached to it specifically for numerical values. A numpy array can also hold different values. If the elements are numeric it can perform a lot of usefull operations. Numpy is often the basis for other packages like pandas."
   ]
  },
  {
   "cell_type": "code",
   "execution_count": null,
   "metadata": {},
   "outputs": [],
   "source": [
    "test = np.array([\"a\", 2, 2.34])"
   ]
  },
  {
   "cell_type": "markdown",
   "metadata": {},
   "source": [
    "What happens if you call the sum method on test? (test.sum())"
   ]
  },
  {
   "cell_type": "code",
   "execution_count": null,
   "metadata": {},
   "outputs": [],
   "source": [
    "test.sum()"
   ]
  },
  {
   "cell_type": "markdown",
   "metadata": {},
   "source": [
    "What ahppens if you call it on a_numpy"
   ]
  },
  {
   "cell_type": "code",
   "execution_count": null,
   "metadata": {},
   "outputs": [],
   "source": []
  },
  {
   "cell_type": "markdown",
   "metadata": {},
   "source": [
    "### Create arrays of a given length"
   ]
  },
  {
   "cell_type": "code",
   "execution_count": null,
   "metadata": {},
   "outputs": [],
   "source": [
    "y_ar = np.arange(0, 1, 0.1)\n",
    "print(f\"Lenght of array y_ar is {len(y_ar)}\")\n",
    "print(y_ar)\n",
    "\n",
    "x_ar = np.linspace(1, 10, 5)  # creates an array of length 5 between 1 and 10\n",
    "print(f\"Lenght of array x_ar is {len(x_ar)}\")\n",
    "print(x_ar)"
   ]
  },
  {
   "cell_type": "markdown",
   "metadata": {},
   "source": [
    "### Multidimensional arrays"
   ]
  },
  {
   "cell_type": "code",
   "execution_count": null,
   "metadata": {},
   "outputs": [],
   "source": [
    "z_ar = np.zeros((100,))  # creates an array of shape (100,) with zeros\n",
    "print(f\"Shape of z_ar is {z_ar.shape}\")\n",
    "\n",
    "z_ar = np.zeros((100, 1))  # creates an array of shape (100, 1) with zeros\n",
    "print(f\"Shape of z_ar is {z_ar.shape}\")\n",
    "\n",
    "z_ar = np.zeros((100, 1, 3, 5))  # creates an array of shape (100, 1, 3, 5) with zeros\n",
    "print(f\"Shape of z_ar is {z_ar.shape}\")\n",
    "\n",
    "z_ar[0, 0, 1, 2]  # accesses the element at position (0, 0, 1, 2) in the array"
   ]
  },
  {
   "cell_type": "markdown",
   "metadata": {},
   "source": [
    ".shape gives you the dimensions of the array, while len() only returns the lenght of the first dimension!"
   ]
  },
  {
   "cell_type": "code",
   "execution_count": null,
   "metadata": {},
   "outputs": [],
   "source": [
    "a = [1, 2, 3]\n",
    "b = [3, 4, 5]\n",
    "\n",
    "print(a + b)\n",
    "\n",
    "c = []\n",
    "\n",
    "for count in range(len(a)):\n",
    "    c.append(a[count] + b[count])\n",
    "\n",
    "print(c)"
   ]
  },
  {
   "cell_type": "code",
   "execution_count": null,
   "metadata": {},
   "outputs": [],
   "source": [
    "a = np.array([1.0, 2.0, 3.0])\n",
    "b = np.array([3.0, 4.0, 5.0])\n",
    "\n",
    "print(a + b)"
   ]
  },
  {
   "cell_type": "markdown",
   "metadata": {},
   "source": [
    "### Other usefull numpy functions:\n"
   ]
  },
  {
   "cell_type": "code",
   "execution_count": null,
   "metadata": {},
   "outputs": [],
   "source": [
    "z = np.random.rand(10, 20, 30)\n",
    "\n",
    "print(z.shape)"
   ]
  },
  {
   "cell_type": "code",
   "execution_count": null,
   "metadata": {},
   "outputs": [],
   "source": [
    "z_mean = np.nanmean(z, axis=1)\n",
    "\n",
    "print(z_mean.shape)\n",
    "\n",
    "z_mean = np.nanmean(z, axis=(1, 2))\n",
    "\n",
    "print(z_mean.shape)\n",
    "\n",
    "z_mean_sqrt = np.sqrt(z_mean)  # square root"
   ]
  },
  {
   "cell_type": "markdown",
   "metadata": {},
   "source": [
    "# Pandas\n",
    "\n",
    "Pandas is a powerful open-source data analysis and manipulation library for Python, providing data structures and operations for manipulating numerical tables and time series data effectively. It simplifies tasks such as data cleaning, transformation, and analysis, making it an essential tool for data scientists and analysts.\n",
    "\n",
    "Lets create a Pandas dataframe form the house dictionary.\n",
    "\n",
    "orient=\"index\": This parameter specifies that the keys of the dictionary (house) will be used as the index (row labels) of the DataFrame. In other words, each key in the dictionary will become a row index in the DataFrame."
   ]
  },
  {
   "cell_type": "code",
   "execution_count": null,
   "metadata": {},
   "outputs": [],
   "source": [
    "house_df = pd.DataFrame.from_dict(house, orient=\"index\", columns=[\"area\"])\n",
    "house_df"
   ]
  },
  {
   "cell_type": "code",
   "execution_count": null,
   "metadata": {},
   "outputs": [],
   "source": [
    "house_df.describe()"
   ]
  },
  {
   "cell_type": "code",
   "execution_count": null,
   "metadata": {},
   "outputs": [],
   "source": [
    "house_df.plot(kind=\"bar\")"
   ]
  },
  {
   "cell_type": "markdown",
   "metadata": {},
   "source": [
    "# Data visualization"
   ]
  },
  {
   "cell_type": "markdown",
   "metadata": {},
   "source": [
    "## 1D Plot with a pandas dataframe"
   ]
  },
  {
   "cell_type": "code",
   "execution_count": null,
   "metadata": {},
   "outputs": [],
   "source": [
    "x = np.arange(0, 300)  # Numbers from 0 to 30 (30 not included)\n",
    "y = np.sin(np.arange(0, 300)) + np.random.normal(0, 5, 300)  # Create sinus\n",
    "##signal and add noise\n",
    "\n",
    "dataFrame = pd.DataFrame({\"Intervals\": x, \"values\": y})\n",
    "\n",
    "rolling_mean = dataFrame[\"values\"].rolling(10, min_periods=1, center=True).mean()\n",
    "\n",
    "plt.plot(x, y, label=\"Kurve\", alpha=0.5)\n",
    "plt.plot(x, rolling_mean.values, label=\"Rolling Mean\")\n",
    "plt.title(\"Sinus + Random\")\n",
    "plt.xlabel(\"Interval\")\n",
    "plt.ylabel(\"Values\")\n",
    "plt.legend()"
   ]
  },
  {
   "cell_type": "markdown",
   "metadata": {},
   "source": [
    "## 2D Plots with matplotlib"
   ]
  },
  {
   "cell_type": "code",
   "execution_count": null,
   "metadata": {},
   "outputs": [],
   "source": [
    "z = np.random.rand(20, 20)\n",
    "\n",
    "levels = np.linspace(0, 1, 10)\n",
    "f, ax = plt.subplots(1)\n",
    "im = ax.pcolor(z)\n",
    "# im = ax.contourf(z, levels = levels)\n",
    "# ax.contour(z)\n",
    "ax.set_title(\"Random Noise from 0 - 1\")\n",
    "f.colorbar(im)"
   ]
  }
 ],
 "metadata": {
  "interpreter": {
   "hash": "d5f83bbddec2fad62f798bddde282a6482dd60734d4bf269b14c3a8e72d12866"
  },
  "kernelspec": {
   "display_name": "Python 3.9.7 64-bit ('gui': conda)",
   "name": "python3"
  },
  "language_info": {
   "codemirror_mode": {
    "name": "ipython",
    "version": 3
   },
   "file_extension": ".py",
   "mimetype": "text/x-python",
   "name": "python",
   "nbconvert_exporter": "python",
   "pygments_lexer": "ipython3",
   "version": "3.11.5"
  },
  "toc": {
   "base_numbering": 1,
   "nav_menu": {},
   "number_sections": true,
   "sideBar": true,
   "skip_h1_title": false,
   "title_cell": "Table of Contents",
   "title_sidebar": "Contents",
   "toc_cell": true,
   "toc_position": {
    "height": "calc(100% - 180px)",
    "left": "10px",
    "top": "150px",
    "width": "192px"
   },
   "toc_section_display": true,
   "toc_window_display": true
  }
 },
 "nbformat": 4,
 "nbformat_minor": 4
}
