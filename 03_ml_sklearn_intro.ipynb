{
 "cells": [
  {
   "cell_type": "markdown",
   "id": "cda4ce42",
   "metadata": {
    "papermill": {
     "duration": 0.005446,
     "end_time": "2023-04-21T13:39:10.654077",
     "exception": false,
     "start_time": "2023-04-21T13:39:10.648631",
     "status": "completed"
    },
    "tags": []
   },
   "source": [
    "# Acknowledgement\n",
    "\n",
    "This notebook is from the kaggle intro to Machine learning.\n",
    "\n",
    "Added manula avaluation and condest to use train test spit and evaluation in one notebook.\n",
    "\n",
    "\n",
    "# Selecting Data for Modeling\n",
    "Your dataset had  too many variables to wrap your head around, or even to print out nicely.  How can you pare down this overwhelming amount of data to something you can understand?\n",
    "\n",
    "We'll start by picking a few variables using our intuition. Later courses will show you statistical techniques to automatically prioritize variables.\n",
    "\n",
    "To choose variables/columns, we'll need to see a list of all columns in the dataset. That is done with the **columns** property of the DataFrame (the bottom line of code below).\n"
   ]
  },
  {
   "cell_type": "code",
   "execution_count": null,
   "id": "5931ba47",
   "metadata": {},
   "outputs": [],
   "source": [
    "import pandas as pd\n",
    "import numpy as np\n",
    "from sklearn import tree\n",
    "from sklearn.model_selection import train_test_split\n",
    "from sklearn.metrics import mean_absolute_error"
   ]
  },
  {
   "cell_type": "code",
   "execution_count": null,
   "id": "b922c80a",
   "metadata": {
    "execution": {
     "iopub.execute_input": "2023-04-21T13:39:10.665448Z",
     "iopub.status.busy": "2023-04-21T13:39:10.664103Z",
     "iopub.status.idle": "2023-04-21T13:39:10.779646Z",
     "shell.execute_reply": "2023-04-21T13:39:10.778340Z"
    },
    "papermill": {
     "duration": 0.124191,
     "end_time": "2023-04-21T13:39:10.782671",
     "exception": false,
     "start_time": "2023-04-21T13:39:10.658480",
     "status": "completed"
    },
    "tags": []
   },
   "outputs": [],
   "source": [
    "melbourne_file_path = \"data/melb_data.csv\"\n",
    "melbourne_data = pd.read_csv(melbourne_file_path)\n",
    "melbourne_data.columns"
   ]
  },
  {
   "cell_type": "code",
   "execution_count": null,
   "id": "255ece9f",
   "metadata": {
    "execution": {
     "iopub.execute_input": "2023-04-21T13:39:10.794135Z",
     "iopub.status.busy": "2023-04-21T13:39:10.793179Z",
     "iopub.status.idle": "2023-04-21T13:39:10.820470Z",
     "shell.execute_reply": "2023-04-21T13:39:10.819127Z"
    },
    "papermill": {
     "duration": 0.036347,
     "end_time": "2023-04-21T13:39:10.823661",
     "exception": false,
     "start_time": "2023-04-21T13:39:10.787314",
     "status": "completed"
    },
    "tags": []
   },
   "outputs": [],
   "source": [
    "# The Melbourne data has some missing values (some houses for which some variables weren't recorded.)\n",
    "# We'll learn to handle missing values in a later tutorial.\n",
    "# Your Iowa data doesn't have missing values in the columns you use.\n",
    "# So we will take the simplest option for now, and drop houses from our data.\n",
    "# Don't worry about this much for now, though the code is:\n",
    "\n",
    "# dropna drops missing values (think of na as \"not available\")\n",
    "melbourne_data = melbourne_data.dropna(axis=0)"
   ]
  },
  {
   "cell_type": "markdown",
   "id": "467e8e6b",
   "metadata": {
    "papermill": {
     "duration": 0.004171,
     "end_time": "2023-04-21T13:39:10.832423",
     "exception": false,
     "start_time": "2023-04-21T13:39:10.828252",
     "status": "completed"
    },
    "tags": []
   },
   "source": [
    "There are many ways to select a subset of your data. The [Pandas course](https://www.kaggle.com/learn/pandas) covers these in more depth, but we will focus on two approaches for now.\n",
    "\n",
    "1. Dot notation, which we use to select the \"prediction target\"\n",
    "2. Selecting with a column list, which we use to select the \"features\" \n",
    "\n",
    "## Selecting The Prediction Target \n",
    "You can pull out a variable with **dot-notation**.  This single column is stored in a **Series**, which is broadly like a DataFrame with only a single column of data.  \n",
    "\n",
    "We'll use the dot notation to select the column we want to predict, which is called the **prediction target**. By convention, the prediction target is called **y**. So the code we need to save the house prices in the Melbourne data is"
   ]
  },
  {
   "cell_type": "code",
   "execution_count": null,
   "id": "e32e7c35",
   "metadata": {
    "collapsed": true,
    "execution": {
     "iopub.execute_input": "2023-04-21T13:39:10.843244Z",
     "iopub.status.busy": "2023-04-21T13:39:10.842812Z",
     "iopub.status.idle": "2023-04-21T13:39:10.852373Z",
     "shell.execute_reply": "2023-04-21T13:39:10.851200Z"
    },
    "papermill": {
     "duration": 0.01824,
     "end_time": "2023-04-21T13:39:10.855226",
     "exception": false,
     "start_time": "2023-04-21T13:39:10.836986",
     "status": "completed"
    },
    "tags": []
   },
   "outputs": [],
   "source": [
    "y = melbourne_data.Price\n",
    "y.plot()"
   ]
  },
  {
   "cell_type": "markdown",
   "id": "5e6adb74",
   "metadata": {
    "papermill": {
     "duration": 0.004275,
     "end_time": "2023-04-21T13:39:10.864139",
     "exception": false,
     "start_time": "2023-04-21T13:39:10.859864",
     "status": "completed"
    },
    "tags": []
   },
   "source": [
    "# Choosing \"Features\"\n",
    "The columns that are inputted into our model (and later used to make predictions) are called \"features.\" In our case, those would be the columns used to determine the home price. Sometimes, you will use all columns except the target as features. Other times you'll be better off with fewer features. \n",
    "\n",
    "For now, we'll build a model with only a few features. Later on you'll see how to iterate and compare models built with different features.\n",
    "\n",
    "We select multiple features by providing a list of column names inside brackets. Each item in that list should be a string (with quotes).\n",
    "\n",
    "Here is an example:"
   ]
  },
  {
   "cell_type": "code",
   "execution_count": null,
   "id": "18eb32e0",
   "metadata": {
    "collapsed": true,
    "execution": {
     "iopub.execute_input": "2023-04-21T13:39:10.875745Z",
     "iopub.status.busy": "2023-04-21T13:39:10.874792Z",
     "iopub.status.idle": "2023-04-21T13:39:10.880173Z",
     "shell.execute_reply": "2023-04-21T13:39:10.878990Z"
    },
    "papermill": {
     "duration": 0.014159,
     "end_time": "2023-04-21T13:39:10.882871",
     "exception": false,
     "start_time": "2023-04-21T13:39:10.868712",
     "status": "completed"
    },
    "tags": []
   },
   "outputs": [],
   "source": [
    "melbourne_features = [\"Rooms\", \"Bathroom\", \"Landsize\", \"Lattitude\", \"Longtitude\"]"
   ]
  },
  {
   "cell_type": "markdown",
   "id": "500911b2",
   "metadata": {
    "papermill": {
     "duration": 0.004331,
     "end_time": "2023-04-21T13:39:10.891901",
     "exception": false,
     "start_time": "2023-04-21T13:39:10.887570",
     "status": "completed"
    },
    "tags": []
   },
   "source": [
    "By convention, this data is called **X**."
   ]
  },
  {
   "cell_type": "code",
   "execution_count": null,
   "id": "8e4c4083",
   "metadata": {
    "collapsed": true,
    "execution": {
     "iopub.execute_input": "2023-04-21T13:39:10.903528Z",
     "iopub.status.busy": "2023-04-21T13:39:10.902813Z",
     "iopub.status.idle": "2023-04-21T13:39:10.908425Z",
     "shell.execute_reply": "2023-04-21T13:39:10.907477Z"
    },
    "papermill": {
     "duration": 0.014292,
     "end_time": "2023-04-21T13:39:10.910878",
     "exception": false,
     "start_time": "2023-04-21T13:39:10.896586",
     "status": "completed"
    },
    "tags": []
   },
   "outputs": [],
   "source": [
    "X = melbourne_data[melbourne_features]"
   ]
  },
  {
   "cell_type": "markdown",
   "id": "6feb915d",
   "metadata": {
    "papermill": {
     "duration": 0.004376,
     "end_time": "2023-04-21T13:39:10.919979",
     "exception": false,
     "start_time": "2023-04-21T13:39:10.915603",
     "status": "completed"
    },
    "tags": []
   },
   "source": [
    "Let's quickly review the data we'll be using to predict house prices using the `describe` method and the `head` method, which shows the top few rows."
   ]
  },
  {
   "cell_type": "code",
   "execution_count": null,
   "id": "f9e607b3",
   "metadata": {
    "execution": {
     "iopub.execute_input": "2023-04-21T13:39:10.931679Z",
     "iopub.status.busy": "2023-04-21T13:39:10.930963Z",
     "iopub.status.idle": "2023-04-21T13:39:10.974401Z",
     "shell.execute_reply": "2023-04-21T13:39:10.973039Z"
    },
    "papermill": {
     "duration": 0.052396,
     "end_time": "2023-04-21T13:39:10.977099",
     "exception": false,
     "start_time": "2023-04-21T13:39:10.924703",
     "status": "completed"
    },
    "tags": []
   },
   "outputs": [],
   "source": [
    "X.describe()"
   ]
  },
  {
   "cell_type": "code",
   "execution_count": null,
   "id": "b0c05c07",
   "metadata": {
    "execution": {
     "iopub.execute_input": "2023-04-21T13:39:10.989003Z",
     "iopub.status.busy": "2023-04-21T13:39:10.988536Z",
     "iopub.status.idle": "2023-04-21T13:39:11.003817Z",
     "shell.execute_reply": "2023-04-21T13:39:11.002736Z"
    },
    "papermill": {
     "duration": 0.024154,
     "end_time": "2023-04-21T13:39:11.006298",
     "exception": false,
     "start_time": "2023-04-21T13:39:10.982144",
     "status": "completed"
    },
    "tags": []
   },
   "outputs": [],
   "source": [
    "X.head()"
   ]
  },
  {
   "cell_type": "markdown",
   "id": "34351cbe",
   "metadata": {
    "papermill": {
     "duration": 0.004932,
     "end_time": "2023-04-21T13:39:11.016601",
     "exception": false,
     "start_time": "2023-04-21T13:39:11.011669",
     "status": "completed"
    },
    "tags": []
   },
   "source": [
    "Visually checking your data with these commands is an important part of a data scientist's job.  You'll frequently find surprises in the dataset that deserve further inspection."
   ]
  },
  {
   "cell_type": "markdown",
   "id": "04587d71",
   "metadata": {
    "papermill": {
     "duration": 0.005004,
     "end_time": "2023-04-21T13:39:11.027209",
     "exception": false,
     "start_time": "2023-04-21T13:39:11.022205",
     "status": "completed"
    },
    "tags": []
   },
   "source": [
    "---\n",
    "# Building Your Model\n",
    "\n",
    "You will use the **scikit-learn** library to create your models.  When coding, this library is written as **sklearn**, as you will see in the sample code. Scikit-learn is easily the most popular library for modeling the types of data typically stored in DataFrames. \n",
    "\n",
    "The steps to building and using a model are:\n",
    "* **Define:** What type of model will it be?  A decision tree?  Some other type of model? Some other parameters of the model type are specified too.\n",
    "* **Fit:** Capture patterns from provided data. This is the heart of modeling.\n",
    "* **Predict:** Just what it sounds like\n",
    "* **Evaluate**: Determine how accurate the model's predictions are.\n",
    "\n",
    "Here is an example of defining a decision tree model with scikit-learn and fitting it with the features and target variable."
   ]
  },
  {
   "cell_type": "code",
   "execution_count": null,
   "id": "65a018f5",
   "metadata": {
    "collapsed": true,
    "execution": {
     "iopub.execute_input": "2023-04-21T13:39:11.041570Z",
     "iopub.status.busy": "2023-04-21T13:39:11.040380Z",
     "iopub.status.idle": "2023-04-21T13:39:12.458379Z",
     "shell.execute_reply": "2023-04-21T13:39:12.457412Z"
    },
    "papermill": {
     "duration": 1.428257,
     "end_time": "2023-04-21T13:39:12.461460",
     "exception": false,
     "start_time": "2023-04-21T13:39:11.033203",
     "status": "completed"
    },
    "tags": []
   },
   "outputs": [],
   "source": [
    "# split data into training and validation data, for both features and target\n",
    "# The split is based on a random number generator. Supplying a numeric value to\n",
    "# the random_state argument guarantees we get the same split every time we\n",
    "# run this script.\n",
    "train_X, val_X, train_y, val_y = train_test_split(X, y, random_state=0)\n",
    "# Define model\n",
    "melbourne_model = tree.DecisionTreeRegressor()\n",
    "# Fit model\n",
    "melbourne_model.fit(train_X, train_y)"
   ]
  },
  {
   "cell_type": "markdown",
   "id": "03849952",
   "metadata": {
    "papermill": {
     "duration": 0.00784,
     "end_time": "2023-04-21T13:39:12.477386",
     "exception": false,
     "start_time": "2023-04-21T13:39:12.469546",
     "status": "completed"
    },
    "tags": []
   },
   "source": [
    "Many machine learning models allow some randomness in model training. Specifying a number for `random_state` ensures you get the same results in each run. This is considered a good practice. You use any number, and model quality won't depend meaningfully on exactly what value you choose.\n",
    "\n",
    "We now have a fitted model that we can use to make predictions.\n",
    "\n",
    "In practice, you'll want to make predictions for new houses coming on the market rather than the houses we already have prices for. But we'll make predictions for the first few rows of the training data to see how the predict function works.\n"
   ]
  },
  {
   "cell_type": "markdown",
   "id": "493de36a",
   "metadata": {},
   "source": [
    "## Model Evaluation"
   ]
  },
  {
   "cell_type": "code",
   "execution_count": null,
   "id": "c75a7698",
   "metadata": {},
   "outputs": [],
   "source": [
    "# get predicted prices on validation data\n",
    "val_predictions = melbourne_model.predict(val_X)\n",
    "\n",
    "print(mean_absolute_error(val_y, val_predictions))"
   ]
  },
  {
   "cell_type": "markdown",
   "id": "55eac8b1",
   "metadata": {},
   "source": [
    " As a point of reference, the average home value in the validation data is 1.1 million dollars. So the error in new data is about a quarter of the average home value.\n",
    "\n",
    "There are many ways to improve this model, such as experimenting to find better features or different model types.\n"
   ]
  },
  {
   "cell_type": "markdown",
   "id": "480504d2",
   "metadata": {},
   "source": [
    "Now try out the model with some data you want"
   ]
  },
  {
   "cell_type": "code",
   "execution_count": null,
   "id": "72308ab3",
   "metadata": {
    "papermill": {
     "duration": 0.005152,
     "end_time": "2023-04-21T13:39:12.516597",
     "exception": false,
     "start_time": "2023-04-21T13:39:12.511445",
     "status": "completed"
    },
    "tags": []
   },
   "outputs": [],
   "source": [
    "rooms = 5\n",
    "bathroom = 1\n",
    "landsize = 30.0\n",
    "lattitude = -36\n",
    "longitude = 144.9944\n",
    "\n",
    "melbourne_model.predict(np.array([[rooms, bathroom, landsize, lattitude, longitude]]))"
   ]
  },
  {
   "cell_type": "markdown",
   "id": "b5d859df",
   "metadata": {},
   "source": [
    "Note here that you need the pass in the data as pandas dataframe or a nested numpy array."
   ]
  },
  {
   "cell_type": "markdown",
   "id": "8e8f6299",
   "metadata": {},
   "source": []
  }
 ],
 "metadata": {
  "kernelspec": {
   "display_name": "Python 3",
   "language": "python",
   "name": "python3"
  },
  "language_info": {
   "codemirror_mode": {
    "name": "ipython",
    "version": 3
   },
   "file_extension": ".py",
   "mimetype": "text/x-python",
   "name": "python",
   "nbconvert_exporter": "python",
   "pygments_lexer": "ipython3",
   "version": "3.11.5"
  },
  "papermill": {
   "default_parameters": {},
   "duration": 13.337576,
   "end_time": "2023-04-21T13:39:13.256597",
   "environment_variables": {},
   "exception": null,
   "input_path": "__notebook__.ipynb",
   "output_path": "__notebook__.ipynb",
   "parameters": {},
   "start_time": "2023-04-21T13:38:59.919021",
   "version": "2.4.0"
  }
 },
 "nbformat": 4,
 "nbformat_minor": 5
}
